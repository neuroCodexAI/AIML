{
 "cells": [
  {
   "cell_type": "code",
   "execution_count": 2,
   "id": "a4619062",
   "metadata": {},
   "outputs": [],
   "source": [
    "from sklearn.base import BaseEstimator, ClassifierMixin\n",
    "import numpy as np\n",
    "from sklearn.utils.validation import check_X_y"
   ]
  },
  {
   "cell_type": "code",
   "execution_count": 3,
   "id": "bf42c447",
   "metadata": {},
   "outputs": [],
   "source": [
    "class MostFrequentClassClassifier(BaseEstimator, ClassifierMixin):\n",
    "    def __init__(self):\n",
    "        self.most_frequent_ = None\n",
    "\n",
    "    def fit(self, X, y):\n",
    "\n",
    "        # Validate input X and target vector y\n",
    "        X, y = check_X_y(X, y)\n",
    "\n",
    "        # Ensure y is 1D\n",
    "        y = np.ravel(y)\n",
    "\n",
    "        # Manually compute the most frequent class\n",
    "        unique_classes, counts = np.unique(y, return_counts=True)\n",
    "        self.most_frequent_ = unique_classes[np.argmax(counts)]\n",
    "\n",
    "        return self\n",
    "\n",
    "    def predict(self, X):\n",
    "        if self.most_frequent_ is None:\n",
    "            raise ValueError(\"This classifier instance is not fitted yet.\")\n",
    "        # Predict the most frequent class for each input sample\n",
    "        return np.full(shape=(X.shape[0],), fill_value=self.most_frequent_)"
   ]
  },
  {
   "cell_type": "code",
   "execution_count": 5,
   "id": "924f310f",
   "metadata": {},
   "outputs": [
    {
     "name": "stdout",
     "output_type": "stream",
     "text": [
      "Predicted class for all test instances: 1\n"
     ]
    }
   ],
   "source": [
    "from sklearn.model_selection import train_test_split\n",
    "from sklearn.datasets import load_iris\n",
    "\n",
    "# Load data\n",
    "iris = load_iris()\n",
    "X, y = iris.data, iris.target\n",
    "\n",
    "# Split the data\n",
    "X_train, X_test, y_train, y_test = train_test_split(X, y, random_state=42)\n",
    "\n",
    "# Initialize and fit the custom estimator\n",
    "classifier = MostFrequentClassClassifier()\n",
    "classifier.fit(X_train, y_train)\n",
    "\n",
    "# Make predictions\n",
    "predictions = classifier.predict(X_test)\n",
    "\n",
    "# Evaluate the custom estimator\n",
    "print(f\"Predicted class for all test instances: {predictions[0]}\")"
   ]
  },
  {
   "cell_type": "code",
   "execution_count": 6,
   "id": "61c9661e",
   "metadata": {},
   "outputs": [
    {
     "data": {
      "text/plain": [
       "1"
      ]
     },
     "execution_count": 6,
     "metadata": {},
     "output_type": "execute_result"
    }
   ],
   "source": [
    "classifier.most_frequent_"
   ]
  },
  {
   "cell_type": "code",
   "execution_count": 7,
   "id": "3405a29c",
   "metadata": {},
   "outputs": [
    {
     "data": {
      "text/plain": [
       "array([0.34782609, 0.34782609, 0.31818182, 0.36363636, 0.36363636])"
      ]
     },
     "execution_count": 7,
     "metadata": {},
     "output_type": "execute_result"
    }
   ],
   "source": [
    "from sklearn.model_selection import cross_val_score\n",
    "\n",
    "cross_val_score(classifier, X_train, y_train)"
   ]
  },
  {
   "cell_type": "code",
   "execution_count": null,
   "id": "2b5ade8a",
   "metadata": {},
   "outputs": [],
   "source": []
  }
 ],
 "metadata": {
  "kernelspec": {
   "display_name": "base",
   "language": "python",
   "name": "python3"
  },
  "language_info": {
   "codemirror_mode": {
    "name": "ipython",
    "version": 3
   },
   "file_extension": ".py",
   "mimetype": "text/x-python",
   "name": "python",
   "nbconvert_exporter": "python",
   "pygments_lexer": "ipython3",
   "version": "3.12.4"
  }
 },
 "nbformat": 4,
 "nbformat_minor": 5
}
